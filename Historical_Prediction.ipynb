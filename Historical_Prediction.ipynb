{
  "nbformat": 4,
  "nbformat_minor": 0,
  "metadata": {
    "colab": {
      "provenance": []
    },
    "kernelspec": {
      "display_name": "Python 3",
      "name": "python3"
    }
  },
  "cells": [
    {
      "cell_type": "code",
      "metadata": {
        "id": "fakp1In50oLW"
      },
      "source": [
        "import pandas_datareader as pdr\n",
        "# !pip install yfinance\n",
        "import yfinance as yf\n",
        "import datetime as dt\n",
        "import pandas as pd\n",
        "import matplotlib.pyplot as plt\n",
        "import numpy as np\n",
        "from sklearn.preprocessing import MinMaxScaler"
      ],
      "execution_count": null,
      "outputs": []
    },
    {
      "cell_type": "code",
      "metadata": {
        "id": "cXYqvY6d0_P8"
      },
      "source": [
        "user_input = input(\"Enter Stock Symbol: \")\n",
        "\n",
        "if not user_input:\n",
        "  symbol = 'WIPRO.NS'         # Taken as an example\n",
        "else:\n",
        "  symbol = user_input\n",
        "\n",
        "try:\n",
        "    df = yf.download(symbol, start='2013-01-01', end='2021-05-29')\n",
        "\n",
        "except:\n",
        "    print(\"Stock Symbol is Invalid.\")\n",
        "    exit()\n",
        "\n",
        "df.to_csv(\"data_prediction.csv\")"
      ],
      "execution_count": null,
      "outputs": []
    },
    {
      "cell_type": "code",
      "metadata": {
        "id": "tuisMOLw1KbU",
        "colab": {
          "base_uri": "https://localhost:8080/",
          "height": 298
        },
        "outputId": "80114de0-ad7e-41c5-d051-02f98f00b848"
      },
      "source": [
        "df1 = df.reset_index()['Close']\n",
        "plt.title(\"Original Statistics for \"+str(symbol))\n",
        "plt.plot(df1)         # X-axis: Days |||| Y-axis: Price"
      ],
      "execution_count": null,
      "outputs": [
        {
          "output_type": "execute_result",
          "data": {
            "text/plain": [
              "[<matplotlib.lines.Line2D at 0x7fa54f5089d0>]"
            ]
          },
          "metadata": {
            "tags": []
          },
          "execution_count": 58
        },
        {
          "output_type": "display_data",
          "data": {
            "image/png": "[encoded data removed]",
            "text/plain": [
              "<Figure size 432x288 with 1 Axes>"
            ]
          },
          "metadata": {
            "tags": [],
            "needs_background": "light"
          }
        }
      ]
    },
    {
      "cell_type": "code",
      "metadata": {
        "colab": {
          "base_uri": "https://localhost:8080/"
        },
        "id": "tX2dUTNqAaCY",
        "outputId": "42b40c6e-b5ed-4ba6-9bbc-242f71a6ed49"
      },
      "source": [
        "df1.shape"
      ],
      "execution_count": null,
      "outputs": [
        {
          "output_type": "execute_result",
          "data": {
            "text/plain": [
              "(2069,)"
            ]
          },
          "metadata": {
            "tags": []
          },
          "execution_count": 61
        }
      ]
    },
    {
      "cell_type": "code",
      "metadata": {
        "id": "wTrZ2V2m1OZU"
      },
      "source": [
        "# LSTM is sensitive to scale of data. Hence, we apply MinMax scalar here.\n",
        "scaler=MinMaxScaler(feature_range=(0,1))\n",
        "df1=scaler.fit_transform(np.array(df1).reshape(-1,1))"
      ],
      "execution_count": null,
      "outputs": []
    },
    {
      "cell_type": "code",
      "metadata": {
        "colab": {
          "base_uri": "https://localhost:8080/"
        },
        "id": "erRsqfMIBRp5",
        "outputId": "b69f8c46-1eb0-467f-b016-515e3f505153"
      },
      "source": [
        "df1.shape       # Got transformed and converted to array"
      ],
      "execution_count": null,
      "outputs": [
        {
          "output_type": "execute_result",
          "data": {
            "text/plain": [
              "(2069, 1)"
            ]
          },
          "metadata": {
            "tags": []
          },
          "execution_count": 63
        }
      ]
    },
    {
      "cell_type": "code",
      "metadata": {
        "id": "pMs7gcxB1RIk"
      },
      "source": [
        "# print(df1)\n",
        "##splitting dataset into train and test split\n",
        "training_size=int(len(df1)*0.65)\n",
        "test_size=len(df1)-training_size\n",
        "train_data,test_data=df1[0:training_size,:],df1[training_size:len(df1),:1]"
      ],
      "execution_count": null,
      "outputs": []
    },
    {
      "cell_type": "code",
      "metadata": {
        "colab": {
          "base_uri": "https://localhost:8080/"
        },
        "id": "EURH5T_6B38W",
        "outputId": "3032d9b7-e42a-4786-8656-7e416aee2156"
      },
      "source": [
        "training_size, test_size"
      ],
      "execution_count": null,
      "outputs": [
        {
          "output_type": "execute_result",
          "data": {
            "text/plain": [
              "(1344, 725)"
            ]
          },
          "metadata": {
            "tags": []
          },
          "execution_count": 65
        }
      ]
    },
    {
      "cell_type": "code",
      "metadata": {
        "colab": {
          "base_uri": "https://localhost:8080/"
        },
        "id": "5tbho73MCPGr",
        "outputId": "631ce896-a5fb-438a-d079-0b77f2ceadf6"
      },
      "source": [
        "len(train_data), len(test_data)"
      ],
      "execution_count": null,
      "outputs": [
        {
          "output_type": "execute_result",
          "data": {
            "text/plain": [
              "(1344, 725)"
            ]
          },
          "metadata": {
            "tags": []
          },
          "execution_count": 66
        }
      ]
    },
    {
      "cell_type": "code",
      "metadata": {
        "id": "aCBUWBWZ1Wyi"
      },
      "source": [
        "# convert an array of values into a dataset matrix\n",
        "def create_dataset(dataset, time_step=1):\n",
        "\tdataX, dataY = [], []\n",
        "\tfor i in range(len(dataset)-time_step-1):\n",
        "\t\ta = dataset[i:(i+time_step), 0]\n",
        "\t\tdataX.append(a)\n",
        "\t\tdataY.append(dataset[i + time_step, 0])\n",
        "\treturn np.array(dataX), np.array(dataY)"
      ],
      "execution_count": null,
      "outputs": []
    },
    {
      "cell_type": "code",
      "metadata": {
        "id": "WWlQYYIB1ZgL",
        "colab": {
          "base_uri": "https://localhost:8080/"
        },
        "outputId": "00172c93-c86d-4da7-ed0f-aa7bc9155180"
      },
      "source": [
        "# reshape into X=t,t+1,t+2,t+3 and Y=t+4\n",
        "time_step = 100\n",
        "X_train, y_train = create_dataset(train_data, time_step)\n",
        "X_test, ytest = create_dataset(test_data, time_step)\n",
        "print(X_train.shape), print(y_train.shape)\n",
        "print(X_test.shape), print(ytest.shape)"
      ],
      "execution_count": null,
      "outputs": [
        {
          "output_type": "stream",
          "text": [
            "(1243, 100)\n",
            "(1243,)\n",
            "(624, 100)\n",
            "(624,)\n"
          ],
          "name": "stdout"
        },
        {
          "output_type": "execute_result",
          "data": {
            "text/plain": [
              "(None, None)"
            ]
          },
          "metadata": {
            "tags": []
          },
          "execution_count": 68
        }
      ]
    },
    {
      "cell_type": "code",
      "metadata": {
        "id": "1BCZmZf54jaM"
      },
      "source": [
        "\n",
        "# reshape input to be [samples, time steps, features] which is required for LSTM\n",
        "X_train =X_train.reshape(X_train.shape[0],X_train.shape[1] , 1)\n",
        "X_test = X_test.reshape(X_test.shape[0],X_test.shape[1] , 1)"
      ],
      "execution_count": null,
      "outputs": []
    },
    {
      "cell_type": "code",
      "metadata": {
        "id": "mC1KtDeq1cnT"
      },
      "source": [
        "### Create the Stacked LSTM model\n",
        "from tensorflow.keras.models import Sequential\n",
        "from tensorflow.keras.layers import Dense\n",
        "from tensorflow.keras.layers import LSTM"
      ],
      "execution_count": null,
      "outputs": []
    },
    {
      "cell_type": "code",
      "metadata": {
        "id": "-QgcZztq1iE7"
      },
      "source": [
        "model=Sequential()\n",
        "model.add(LSTM(50,return_sequences=True,input_shape=(100,1)))\n",
        "model.add(LSTM(50,return_sequences=True))     # Because this is STACKED LSTM (one LSTM over another)\n",
        "model.add(LSTM(50))                           # Because this is STACKED LSTM\n",
        "model.add(Dense(1))                           # Final output\n",
        "model.compile(loss='mean_squared_error',optimizer='adam')"
      ],
      "execution_count": null,
      "outputs": []
    },
    {
      "cell_type": "code",
      "metadata": {
        "colab": {
          "base_uri": "https://localhost:8080/"
        },
        "id": "1k9gWPV8G4Z5",
        "outputId": "8534b8df-88fb-4b98-a69f-57fbf7a2f819"
      },
      "source": [
        "model.summary()"
      ],
      "execution_count": null,
      "outputs": [
        {
          "output_type": "stream",
          "text": [
            "Model: \"sequential_3\"\n",
            "_________________________________________________________________\n",
            "Layer (type)                 Output Shape              Param #   \n",
            "=================================================================\n",
            "lstm_9 (LSTM)                (None, 100, 50)           10400     \n",
            "_________________________________________________________________\n",
            "lstm_10 (LSTM)               (None, 100, 50)           20200     \n",
            "_________________________________________________________________\n",
            "lstm_11 (LSTM)               (None, 50)                20200     \n",
            "_________________________________________________________________\n",
            "dense_3 (Dense)              (None, 1)                 51        \n",
            "=================================================================\n",
            "Total params: 50,851\n",
            "Trainable params: 50,851\n",
            "Non-trainable params: 0\n",
            "_________________________________________________________________\n"
          ],
          "name": "stdout"
        }
      ]
    },
    {
      "cell_type": "code",
      "metadata": {
        "id": "DetP7oKM1n87",
        "colab": {
          "base_uri": "https://localhost:8080/"
        },
        "outputId": "a836ab6d-af9d-47cf-98d0-4daf1db546d5"
      },
      "source": [
        "model.fit(X_train,y_train,validation_data=(X_test,ytest),epochs=100,batch_size=64,verbose=1)"
      ],
      "execution_count": null,
      "outputs": [
        {
          "output_type": "stream",
          "text": [
            "Epoch 1/100\n",
            "20/20 [==============================] - 9s 231ms/step - loss: 0.0059 - val_loss: 0.0189\n",
            "Epoch 2/100\n",
            "20/20 [==============================] - 4s 176ms/step - loss: 0.0011 - val_loss: 0.0168\n",
            "Epoch 3/100\n",
            "20/20 [==============================] - 4s 177ms/step - loss: 6.4387e-04 - val_loss: 0.0111\n",
            "Epoch 4/100\n",
            "20/20 [==============================] - 4s 183ms/step - loss: 4.1046e-04 - val_loss: 0.0052\n",
            "Epoch 5/100\n",
            "20/20 [==============================] - 4s 181ms/step - loss: 3.6626e-04 - val_loss: 0.0046\n",
            "Epoch 6/100\n",
            "20/20 [==============================] - 4s 184ms/step - loss: 3.5116e-04 - val_loss: 0.0047\n",
            "Epoch 7/100\n",
            "20/20 [==============================] - 4s 181ms/step - loss: 3.3387e-04 - val_loss: 0.0041\n",
            "Epoch 8/100\n",
            "20/20 [==============================] - 4s 181ms/step - loss: 3.2481e-04 - val_loss: 0.0041\n",
            "Epoch 9/100\n",
            "20/20 [==============================] - 4s 185ms/step - loss: 3.1605e-04 - val_loss: 0.0035\n",
            "Epoch 10/100\n",
            "20/20 [==============================] - 4s 186ms/step - loss: 3.0742e-04 - val_loss: 0.0048\n",
            "Epoch 11/100\n",
            "20/20 [==============================] - 4s 189ms/step - loss: 3.0830e-04 - val_loss: 0.0034\n",
            "Epoch 12/100\n",
            "20/20 [==============================] - 4s 184ms/step - loss: 2.6764e-04 - val_loss: 0.0034\n",
            "Epoch 13/100\n",
            "20/20 [==============================] - 4s 188ms/step - loss: 2.8434e-04 - val_loss: 0.0038\n",
            "Epoch 14/100\n",
            "20/20 [==============================] - 4s 187ms/step - loss: 2.5382e-04 - val_loss: 0.0040\n",
            "Epoch 15/100\n",
            "20/20 [==============================] - 4s 187ms/step - loss: 2.4277e-04 - val_loss: 0.0036\n",
            "Epoch 16/100\n",
            "20/20 [==============================] - 4s 185ms/step - loss: 2.2366e-04 - val_loss: 0.0038\n",
            "Epoch 17/100\n",
            "20/20 [==============================] - 4s 184ms/step - loss: 2.3741e-04 - val_loss: 0.0057\n",
            "Epoch 18/100\n",
            "20/20 [==============================] - 4s 191ms/step - loss: 2.2856e-04 - val_loss: 0.0039\n",
            "Epoch 19/100\n",
            "20/20 [==============================] - 4s 185ms/step - loss: 2.4035e-04 - val_loss: 0.0050\n",
            "Epoch 20/100\n",
            "20/20 [==============================] - 4s 188ms/step - loss: 2.2608e-04 - val_loss: 0.0055\n",
            "Epoch 21/100\n",
            "20/20 [==============================] - 4s 184ms/step - loss: 2.0894e-04 - val_loss: 0.0056\n",
            "Epoch 22/100\n",
            "20/20 [==============================] - 4s 186ms/step - loss: 2.0946e-04 - val_loss: 0.0049\n",
            "Epoch 23/100\n",
            "20/20 [==============================] - 4s 186ms/step - loss: 1.9325e-04 - val_loss: 0.0040\n",
            "Epoch 24/100\n",
            "20/20 [==============================] - 4s 188ms/step - loss: 2.2509e-04 - val_loss: 0.0078\n",
            "Epoch 25/100\n",
            "20/20 [==============================] - 4s 186ms/step - loss: 2.0025e-04 - val_loss: 0.0041\n",
            "Epoch 26/100\n",
            "20/20 [==============================] - 4s 189ms/step - loss: 1.8867e-04 - val_loss: 0.0083\n",
            "Epoch 27/100\n",
            "20/20 [==============================] - 4s 189ms/step - loss: 1.8550e-04 - val_loss: 0.0063\n",
            "Epoch 28/100\n",
            "20/20 [==============================] - 4s 188ms/step - loss: 1.8042e-04 - val_loss: 0.0057\n",
            "Epoch 29/100\n",
            "20/20 [==============================] - 4s 194ms/step - loss: 1.7666e-04 - val_loss: 0.0070\n",
            "Epoch 30/100\n",
            "20/20 [==============================] - 4s 190ms/step - loss: 1.8503e-04 - val_loss: 0.0053\n",
            "Epoch 31/100\n",
            "20/20 [==============================] - 4s 190ms/step - loss: 1.7486e-04 - val_loss: 0.0066\n",
            "Epoch 32/100\n",
            "20/20 [==============================] - 4s 189ms/step - loss: 1.6837e-04 - val_loss: 0.0064\n",
            "Epoch 33/100\n",
            "20/20 [==============================] - 4s 189ms/step - loss: 1.6301e-04 - val_loss: 0.0059\n",
            "Epoch 34/100\n",
            "20/20 [==============================] - 4s 189ms/step - loss: 1.6288e-04 - val_loss: 0.0046\n",
            "Epoch 35/100\n",
            "20/20 [==============================] - 4s 194ms/step - loss: 1.6364e-04 - val_loss: 0.0054\n",
            "Epoch 36/100\n",
            "20/20 [==============================] - 4s 190ms/step - loss: 1.5667e-04 - val_loss: 0.0052\n",
            "Epoch 37/100\n",
            "20/20 [==============================] - 4s 187ms/step - loss: 1.5728e-04 - val_loss: 0.0061\n",
            "Epoch 38/100\n",
            "20/20 [==============================] - 4s 188ms/step - loss: 1.6108e-04 - val_loss: 0.0062\n",
            "Epoch 39/100\n",
            "20/20 [==============================] - 4s 188ms/step - loss: 1.6852e-04 - val_loss: 0.0051\n",
            "Epoch 40/100\n",
            "20/20 [==============================] - 4s 190ms/step - loss: 1.5418e-04 - val_loss: 0.0046\n",
            "Epoch 41/100\n",
            "20/20 [==============================] - 4s 191ms/step - loss: 1.4784e-04 - val_loss: 0.0051\n",
            "Epoch 42/100\n",
            "20/20 [==============================] - 4s 188ms/step - loss: 1.4996e-04 - val_loss: 0.0065\n",
            "Epoch 43/100\n",
            "20/20 [==============================] - 4s 185ms/step - loss: 1.8118e-04 - val_loss: 0.0058\n",
            "Epoch 44/100\n",
            "20/20 [==============================] - 4s 187ms/step - loss: 1.4445e-04 - val_loss: 0.0036\n",
            "Epoch 45/100\n",
            "20/20 [==============================] - 4s 187ms/step - loss: 1.6134e-04 - val_loss: 0.0040\n",
            "Epoch 46/100\n",
            "20/20 [==============================] - 4s 190ms/step - loss: 1.4920e-04 - val_loss: 0.0034\n",
            "Epoch 47/100\n",
            "20/20 [==============================] - 4s 187ms/step - loss: 1.4549e-04 - val_loss: 0.0050\n",
            "Epoch 48/100\n",
            "20/20 [==============================] - 4s 186ms/step - loss: 1.3660e-04 - val_loss: 0.0049\n",
            "Epoch 49/100\n",
            "20/20 [==============================] - 4s 188ms/step - loss: 1.3914e-04 - val_loss: 0.0052\n",
            "Epoch 50/100\n",
            "20/20 [==============================] - 4s 187ms/step - loss: 1.5431e-04 - val_loss: 0.0060\n",
            "Epoch 51/100\n",
            "20/20 [==============================] - 4s 188ms/step - loss: 1.5230e-04 - val_loss: 0.0043\n",
            "Epoch 52/100\n",
            "20/20 [==============================] - 4s 184ms/step - loss: 1.6497e-04 - val_loss: 0.0075\n",
            "Epoch 53/100\n",
            "20/20 [==============================] - 4s 185ms/step - loss: 1.5376e-04 - val_loss: 0.0042\n",
            "Epoch 54/100\n",
            "20/20 [==============================] - 4s 189ms/step - loss: 1.2764e-04 - val_loss: 0.0047\n",
            "Epoch 55/100\n",
            "20/20 [==============================] - 4s 188ms/step - loss: 1.2825e-04 - val_loss: 0.0040\n",
            "Epoch 56/100\n",
            "20/20 [==============================] - 4s 186ms/step - loss: 1.2262e-04 - val_loss: 0.0043\n",
            "Epoch 57/100\n",
            "20/20 [==============================] - 4s 186ms/step - loss: 1.2260e-04 - val_loss: 0.0046\n",
            "Epoch 58/100\n",
            "20/20 [==============================] - 4s 190ms/step - loss: 1.2005e-04 - val_loss: 0.0040\n",
            "Epoch 59/100\n",
            "20/20 [==============================] - 4s 183ms/step - loss: 1.2494e-04 - val_loss: 0.0050\n",
            "Epoch 60/100\n",
            "20/20 [==============================] - 4s 182ms/step - loss: 1.2784e-04 - val_loss: 0.0050\n",
            "Epoch 61/100\n",
            "20/20 [==============================] - 4s 191ms/step - loss: 1.2364e-04 - val_loss: 0.0037\n",
            "Epoch 62/100\n",
            "20/20 [==============================] - 4s 189ms/step - loss: 1.2248e-04 - val_loss: 0.0035\n",
            "Epoch 63/100\n",
            "20/20 [==============================] - 4s 186ms/step - loss: 1.1200e-04 - val_loss: 0.0038\n",
            "Epoch 64/100\n",
            "20/20 [==============================] - 4s 184ms/step - loss: 1.1602e-04 - val_loss: 0.0042\n",
            "Epoch 65/100\n",
            "20/20 [==============================] - 4s 185ms/step - loss: 1.0893e-04 - val_loss: 0.0026\n",
            "Epoch 66/100\n",
            "20/20 [==============================] - 4s 190ms/step - loss: 1.1575e-04 - val_loss: 0.0034\n",
            "Epoch 67/100\n",
            "20/20 [==============================] - 4s 195ms/step - loss: 1.0437e-04 - val_loss: 0.0036\n",
            "Epoch 68/100\n",
            "20/20 [==============================] - 4s 191ms/step - loss: 1.1253e-04 - val_loss: 0.0028\n",
            "Epoch 69/100\n",
            "20/20 [==============================] - 4s 191ms/step - loss: 1.1140e-04 - val_loss: 0.0031\n",
            "Epoch 70/100\n",
            "20/20 [==============================] - 4s 193ms/step - loss: 1.0148e-04 - val_loss: 0.0023\n",
            "Epoch 71/100\n",
            "20/20 [==============================] - 4s 195ms/step - loss: 1.1632e-04 - val_loss: 0.0032\n",
            "Epoch 72/100\n",
            "20/20 [==============================] - 4s 198ms/step - loss: 1.1842e-04 - val_loss: 0.0033\n",
            "Epoch 73/100\n",
            "20/20 [==============================] - 4s 192ms/step - loss: 1.0580e-04 - val_loss: 0.0034\n",
            "Epoch 74/100\n",
            "20/20 [==============================] - 4s 191ms/step - loss: 1.0059e-04 - val_loss: 0.0024\n",
            "Epoch 75/100\n",
            "20/20 [==============================] - 4s 192ms/step - loss: 1.0954e-04 - val_loss: 0.0028\n",
            "Epoch 76/100\n",
            "20/20 [==============================] - 4s 190ms/step - loss: 1.0438e-04 - val_loss: 0.0027\n",
            "Epoch 77/100\n",
            "20/20 [==============================] - 4s 190ms/step - loss: 1.1113e-04 - val_loss: 0.0021\n",
            "Epoch 78/100\n",
            "20/20 [==============================] - 4s 189ms/step - loss: 1.1133e-04 - val_loss: 0.0022\n",
            "Epoch 79/100\n",
            "20/20 [==============================] - 4s 189ms/step - loss: 1.0498e-04 - val_loss: 0.0024\n",
            "Epoch 80/100\n",
            "20/20 [==============================] - 4s 189ms/step - loss: 9.6315e-05 - val_loss: 0.0026\n",
            "Epoch 81/100\n",
            "20/20 [==============================] - 4s 185ms/step - loss: 9.6214e-05 - val_loss: 0.0017\n",
            "Epoch 82/100\n",
            "20/20 [==============================] - 4s 189ms/step - loss: 1.0172e-04 - val_loss: 0.0035\n",
            "Epoch 83/100\n",
            "20/20 [==============================] - 4s 194ms/step - loss: 9.3882e-05 - val_loss: 0.0014\n",
            "Epoch 84/100\n",
            "20/20 [==============================] - 4s 191ms/step - loss: 1.0469e-04 - val_loss: 0.0024\n",
            "Epoch 85/100\n",
            "20/20 [==============================] - 4s 189ms/step - loss: 8.9606e-05 - val_loss: 0.0019\n",
            "Epoch 86/100\n",
            "20/20 [==============================] - 4s 186ms/step - loss: 9.1959e-05 - val_loss: 0.0027\n",
            "Epoch 87/100\n",
            "20/20 [==============================] - 4s 188ms/step - loss: 8.7220e-05 - val_loss: 0.0023\n",
            "Epoch 88/100\n",
            "20/20 [==============================] - 4s 193ms/step - loss: 8.7610e-05 - val_loss: 0.0020\n",
            "Epoch 89/100\n",
            "20/20 [==============================] - 4s 192ms/step - loss: 8.7202e-05 - val_loss: 0.0024\n",
            "Epoch 90/100\n",
            "20/20 [==============================] - 4s 192ms/step - loss: 8.2712e-05 - val_loss: 0.0026\n",
            "Epoch 91/100\n",
            "20/20 [==============================] - 4s 190ms/step - loss: 8.6724e-05 - val_loss: 0.0028\n",
            "Epoch 92/100\n",
            "20/20 [==============================] - 4s 192ms/step - loss: 8.3715e-05 - val_loss: 0.0014\n",
            "Epoch 93/100\n",
            "20/20 [==============================] - 4s 189ms/step - loss: 8.5844e-05 - val_loss: 0.0020\n",
            "Epoch 94/100\n",
            "20/20 [==============================] - 4s 188ms/step - loss: 7.9858e-05 - val_loss: 0.0024\n",
            "Epoch 95/100\n",
            "20/20 [==============================] - 4s 187ms/step - loss: 9.0866e-05 - val_loss: 0.0019\n",
            "Epoch 96/100\n",
            "20/20 [==============================] - 4s 187ms/step - loss: 8.0412e-05 - val_loss: 0.0019\n",
            "Epoch 97/100\n",
            "20/20 [==============================] - 4s 190ms/step - loss: 7.6202e-05 - val_loss: 0.0017\n",
            "Epoch 98/100\n",
            "20/20 [==============================] - 4s 190ms/step - loss: 7.6661e-05 - val_loss: 0.0015\n",
            "Epoch 99/100\n",
            "20/20 [==============================] - 4s 190ms/step - loss: 9.8826e-05 - val_loss: 0.0027\n",
            "Epoch 100/100\n",
            "20/20 [==============================] - 4s 190ms/step - loss: 7.8024e-05 - val_loss: 0.0017\n"
          ],
          "name": "stdout"
        },
        {
          "output_type": "execute_result",
          "data": {
            "text/plain": [
              "<tensorflow.python.keras.callbacks.History at 0x7fa54edfa3d0>"
            ]
          },
          "metadata": {
            "tags": []
          },
          "execution_count": 74
        }
      ]
    },
    {
      "cell_type": "code",
      "metadata": {
        "colab": {
          "base_uri": "https://localhost:8080/"
        },
        "id": "4qGoeVAX6R-u",
        "outputId": "9d892daf-b958-4722-db95-3fbee3b444f1"
      },
      "source": [
        "import tensorflow as tf\n",
        "print(tf.__version__)"
      ],
      "execution_count": null,
      "outputs": [
        {
          "output_type": "stream",
          "text": [
            "2.5.0\n"
          ],
          "name": "stdout"
        }
      ]
    },
    {
      "cell_type": "code",
      "metadata": {
        "id": "FzFhueaG52ZO"
      },
      "source": [
        "### Lets Do the prediction and check performance metrics\n",
        "train_predict=model.predict(X_train)\n",
        "test_predict=model.predict(X_test)"
      ],
      "execution_count": null,
      "outputs": []
    },
    {
      "cell_type": "code",
      "metadata": {
        "id": "uh94_Svu6beG"
      },
      "source": [
        "##Transformback to original form\n",
        "train_predict=scaler.inverse_transform(train_predict)\n",
        "test_predict=scaler.inverse_transform(test_predict)"
      ],
      "execution_count": null,
      "outputs": []
    },
    {
      "cell_type": "code",
      "metadata": {
        "colab": {
          "base_uri": "https://localhost:8080/"
        },
        "id": "t73-hYrn6fOe",
        "outputId": "62c393b3-18fa-4d1b-8522-b96dd631e4f6"
      },
      "source": [
        "### Calculate RMSE performance metrics\n",
        "import math\n",
        "from sklearn.metrics import mean_squared_error\n",
        "math.sqrt(mean_squared_error(y_train,train_predict))"
      ],
      "execution_count": null,
      "outputs": [
        {
          "output_type": "execute_result",
          "data": {
            "text/plain": [
              "203.37808678450085"
            ]
          },
          "metadata": {
            "tags": []
          },
          "execution_count": 78
        }
      ]
    },
    {
      "cell_type": "code",
      "metadata": {
        "colab": {
          "base_uri": "https://localhost:8080/"
        },
        "id": "_B2Za1ty6mXO",
        "outputId": "8ea4cd41-fa05-4b53-f3dd-0d08e72ce424"
      },
      "source": [
        "### Test Data RMSE\n",
        "math.sqrt(mean_squared_error(ytest,test_predict))"
      ],
      "execution_count": null,
      "outputs": [
        {
          "output_type": "execute_result",
          "data": {
            "text/plain": [
              "290.63555352069136"
            ]
          },
          "metadata": {
            "tags": []
          },
          "execution_count": 79
        }
      ]
    },
    {
      "cell_type": "code",
      "metadata": {
        "colab": {
          "base_uri": "https://localhost:8080/",
          "height": 265
        },
        "id": "ulnAwWvf6nu-",
        "outputId": "b5c9e74b-7023-4272-d383-a7ed28831fab"
      },
      "source": [
        "### Plotting\n",
        "# shift train predictions for plotting\n",
        "look_back=100\n",
        "trainPredictPlot = np.empty_like(df1)\n",
        "trainPredictPlot[:, :] = np.nan\n",
        "trainPredictPlot[look_back:len(train_predict)+look_back, :] = train_predict\n",
        "# shift test predictions for plotting\n",
        "testPredictPlot = np.empty_like(df1)\n",
        "testPredictPlot[:, :] = np.nan\n",
        "testPredictPlot[len(train_predict)+(look_back*2)+1:len(df1)-1, :] = test_predict\n",
        "# plot baseline and predictions\n",
        "plt.plot(scaler.inverse_transform(df1))\n",
        "plt.plot(trainPredictPlot)\n",
        "plt.plot(testPredictPlot)\n",
        "plt.show()"
      ],
      "execution_count": null,
      "outputs": [
        {
          "output_type": "display_data",
          "data": {
            "image/png": "[encoded data removed]",
            "text/plain": [
              "<Figure size 432x288 with 1 Axes>"
            ]
          },
          "metadata": {
            "tags": [],
            "needs_background": "light"
          }
        }
      ]
    },
    {
      "cell_type": "code",
      "metadata": {
        "colab": {
          "base_uri": "https://localhost:8080/"
        },
        "id": "xcK8UgzJJJyY",
        "outputId": "83aba24f-a557-4ebe-deb0-e6c5b29af5b7"
      },
      "source": [
        "len(test_data)"
      ],
      "execution_count": null,
      "outputs": [
        {
          "output_type": "execute_result",
          "data": {
            "text/plain": [
              "725"
            ]
          },
          "metadata": {
            "tags": []
          },
          "execution_count": 81
        }
      ]
    },
    {
      "cell_type": "code",
      "metadata": {
        "colab": {
          "base_uri": "https://localhost:8080/"
        },
        "id": "q_MkA9Cd8x0k",
        "outputId": "a40af190-9074-447a-b3f7-e4269fa21c83"
      },
      "source": [
        "temp = len(test_data)-100\n",
        "temp"
      ],
      "execution_count": null,
      "outputs": [
        {
          "output_type": "execute_result",
          "data": {
            "text/plain": [
              "625"
            ]
          },
          "metadata": {
            "tags": []
          },
          "execution_count": 82
        }
      ]
    },
    {
      "cell_type": "code",
      "metadata": {
        "colab": {
          "base_uri": "https://localhost:8080/"
        },
        "id": "nTE6hV637BJI",
        "outputId": "63f95077-8f11-497e-fe9e-1294f015e40f"
      },
      "source": [
        "x_input=test_data[temp:].reshape(1,-1)\n",
        "x_input.shape"
      ],
      "execution_count": null,
      "outputs": [
        {
          "output_type": "execute_result",
          "data": {
            "text/plain": [
              "(1, 100)"
            ]
          },
          "metadata": {
            "tags": []
          },
          "execution_count": 83
        }
      ]
    },
    {
      "cell_type": "code",
      "metadata": {
        "id": "tYa77oZt7FeK"
      },
      "source": [
        "temp_input=list(x_input)\n",
        "temp_input=temp_input[0].tolist()"
      ],
      "execution_count": null,
      "outputs": []
    },
    {
      "cell_type": "code",
      "metadata": {
        "id": "8y5nooC_7QUX"
      },
      "source": [
        "# temp_input"
      ],
      "execution_count": null,
      "outputs": []
    },
    {
      "cell_type": "code",
      "metadata": {
        "colab": {
          "base_uri": "https://localhost:8080/"
        },
        "id": "4d2oTcYP8E6C",
        "outputId": "9a85f71a-e2c3-4978-de4a-0ceb9cf45380"
      },
      "source": [
        "# demonstrate prediction for next 10 days\n",
        "from numpy import array\n",
        "\n",
        "lst_output=[]\n",
        "n_steps=100\n",
        "i=0\n",
        "while(i<30):\n",
        "\n",
        "    if(len(temp_input)>100):\n",
        "        #print(temp_input)\n",
        "        x_input=np.array(temp_input[1:])\n",
        "        #print(\"{} day input {}\".format(i,x_input))\n",
        "        x_input=x_input.reshape(1,-1)\n",
        "        x_input = x_input.reshape((1, n_steps, 1))\n",
        "        #print(x_input)\n",
        "        yhat = model.predict(x_input, verbose=0)\n",
        "        print(\"{} day output {}\".format(i,yhat))\n",
        "        temp_input.extend(yhat[0].tolist())\n",
        "        temp_input=temp_input[1:]\n",
        "        #print(temp_input)\n",
        "        lst_output.extend(yhat.tolist())\n",
        "        i=i+1\n",
        "    else:\n",
        "        x_input = x_input.reshape((1, n_steps,1))\n",
        "        yhat = model.predict(x_input, verbose=0)\n",
        "        #print(yhat[0])\n",
        "        temp_input.extend(yhat[0].tolist())\n",
        "        print(len(temp_input))\n",
        "        lst_output.extend(yhat.tolist())\n",
        "        i=i+1\n",
        "\n"
      ],
      "execution_count": null,
      "outputs": [
        {
          "output_type": "stream",
          "text": [
            "101\n",
            "1 day output [[0.7406867]]\n",
            "2 day output [[0.6187772]]\n",
            "3 day output [[0.5247586]]\n",
            "4 day output [[0.46893233]]\n",
            "5 day output [[0.44820446]]\n",
            "6 day output [[0.45168802]]\n",
            "7 day output [[0.46661296]]\n",
            "8 day output [[0.4818964]]\n",
            "9 day output [[0.48948407]]\n",
            "10 day output [[0.48490453]]\n",
            "11 day output [[0.46743232]]\n",
            "12 day output [[0.43963847]]\n",
            "13 day output [[0.40625837]]\n",
            "14 day output [[0.37264067]]\n",
            "15 day output [[0.34325072]]\n",
            "16 day output [[0.3207199]]\n",
            "17 day output [[0.30568984]]\n",
            "18 day output [[0.29729632]]\n",
            "19 day output [[0.2938763]]\n",
            "20 day output [[0.29356304]]\n",
            "21 day output [[0.29465985]]\n",
            "22 day output [[0.29583475]]\n",
            "23 day output [[0.29619902]]\n",
            "24 day output [[0.29531035]]\n",
            "25 day output [[0.29311788]]\n",
            "26 day output [[0.28986537]]\n",
            "27 day output [[0.285969]]\n",
            "28 day output [[0.28189543]]\n",
            "29 day output [[0.27806225]]\n"
          ],
          "name": "stdout"
        }
      ]
    },
    {
      "cell_type": "code",
      "metadata": {
        "id": "BKyXhsVD9Scg"
      },
      "source": [
        "day_new=np.arange(1,101)\n",
        "day_pred=np.arange(101,131)"
      ],
      "execution_count": null,
      "outputs": []
    },
    {
      "cell_type": "code",
      "metadata": {
        "colab": {
          "base_uri": "https://localhost:8080/"
        },
        "id": "XaMHjceFKhCq",
        "outputId": "72f4af21-f2e4-4725-b9cf-a849b932709b"
      },
      "source": [
        "len(df1)"
      ],
      "execution_count": null,
      "outputs": [
        {
          "output_type": "execute_result",
          "data": {
            "text/plain": [
              "2069"
            ]
          },
          "metadata": {
            "tags": []
          },
          "execution_count": 87
        }
      ]
    },
    {
      "cell_type": "code",
      "metadata": {
        "colab": {
          "base_uri": "https://localhost:8080/"
        },
        "id": "dwBfFkqK9U9V",
        "outputId": "8921090e-2fd2-41a4-8b7a-2f387457d8cb"
      },
      "source": [
        "graph_index = len(df1)\n",
        "graph_index -= 100\n",
        "graph_index"
      ],
      "execution_count": null,
      "outputs": [
        {
          "output_type": "execute_result",
          "data": {
            "text/plain": [
              "1969"
            ]
          },
          "metadata": {
            "tags": []
          },
          "execution_count": 88
        }
      ]
    },
    {
      "cell_type": "code",
      "metadata": {
        "colab": {
          "base_uri": "https://localhost:8080/",
          "height": 282
        },
        "id": "WaN1RQNP9qvc",
        "outputId": "5d9ab6c1-046f-4cea-aba0-db4008bd74ce"
      },
      "source": [
        "plt.plot(day_new,scaler.inverse_transform(df1[graph_index:]))     # The last 100 days that we considered (Original values)\n",
        "plt.plot(day_pred,scaler.inverse_transform(lst_output))           # Our predicted values (Predicted values)"
      ],
      "execution_count": null,
      "outputs": [
        {
          "output_type": "execute_result",
          "data": {
            "text/plain": [
              "[<matplotlib.lines.Line2D at 0x7fa54c91edd0>]"
            ]
          },
          "metadata": {
            "tags": []
          },
          "execution_count": 89
        },
        {
          "output_type": "display_data",
          "data": {
            "image/png": "[encoded data removed]",
            "text/plain": [
              "<Figure size 432x288 with 1 Axes>"
            ]
          },
          "metadata": {
            "tags": [],
            "needs_background": "light"
          }
        }
      ]
    },
    {
      "cell_type": "code",
      "metadata": {
        "colab": {
          "base_uri": "https://localhost:8080/",
          "height": 282
        },
        "id": "W5Bg3mIf9xsY",
        "outputId": "8897d609-261b-428e-b5c6-881c412227ce"
      },
      "source": [
        "df3 = df1.tolist()\n",
        "df3.extend(lst_output)        # Total 2069+30=2099\n",
        "plt.plot(df3[1500:])          # 2069-1500=569 |||| 569+30=599"
      ],
      "execution_count": null,
      "outputs": [
        {
          "output_type": "execute_result",
          "data": {
            "text/plain": [
              "[<matplotlib.lines.Line2D at 0x7fa54c744f90>]"
            ]
          },
          "metadata": {
            "tags": []
          },
          "execution_count": 95
        },
        {
          "output_type": "display_data",
          "data": {
            "image/png": "[encoded data removed]",
            "text/plain": [
              "<Figure size 432x288 with 1 Axes>"
            ]
          },
          "metadata": {
            "tags": [],
            "needs_background": "light"
          }
        }
      ]
    },
    {
      "cell_type": "code",
      "metadata": {
        "colab": {
          "base_uri": "https://localhost:8080/",
          "height": 293
        },
        "id": "_2Mg66sJ-lVc",
        "outputId": "2fd09515-6d8d-4b98-e43c-9e0a40ba8530"
      },
      "source": [
        "df3=scaler.inverse_transform(df3).tolist()\n",
        "plt.plot(df3)"
      ],
      "execution_count": null,
      "outputs": [
        {
          "output_type": "execute_result",
          "data": {
            "text/plain": [
              "[<matplotlib.lines.Line2D at 0x7fa54c565390>]"
            ]
          },
          "metadata": {
            "tags": []
          },
          "execution_count": 99
        },
        {
          "output_type": "display_data",
          "data": {
            "image/png": "[encoded data removed]",
            "text/plain": [
              "<Figure size 432x288 with 1 Axes>"
            ]
          },
          "metadata": {
            "tags": [],
            "needs_background": "light"
          }
        }
      ]
    },
    {
      "cell_type": "code",
      "metadata": {
        "id": "AmdD5fl_9cAM"
      },
      "source": [],
      "execution_count": null,
      "outputs": []
    }
  ]
}
